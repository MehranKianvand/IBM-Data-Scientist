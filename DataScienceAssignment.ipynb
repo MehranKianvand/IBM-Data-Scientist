{
 "cells": [
  {
   "cell_type": "markdown",
   "id": "4fabc88d",
   "metadata": {},
   "source": [
    "# My Data Science NoteBook"
   ]
  },
  {
   "cell_type": "markdown",
   "id": "4c59ce7d",
   "metadata": {},
   "source": [
    "# Introduction\n",
    "\n",
    "Welcome to my data science notebook. In here, You can explore various aspects of data science, including languages, libraries, and tools.\n"
   ]
  },
  {
   "cell_type": "markdown",
   "id": "34ceb420",
   "metadata": {},
   "source": [
    "# Languages in Data Science\n",
    "There are many languages in Data Science. Some are;\n",
    "- Python\n",
    "- R\n",
    "- SQL\n",
    "- TensorFlow\n",
    "- SAS\n",
    "- Swift\n",
    "- JavaScript"
   ]
  },
  {
   "cell_type": "markdown",
   "id": "f45c3d86",
   "metadata": {},
   "source": [
    "# Libraries we use in DataScience\n",
    "We can use many libraries in datascience. Some are;\n",
    "- Matplotlib\n",
    "- Pandas\n",
    "- Seaborn\n",
    "- NumPy\n",
    "- Plotly"
   ]
  },
  {
   "cell_type": "markdown",
   "id": "dbbf081d",
   "metadata": {},
   "source": [
    "# Tools in DataScience \n",
    "\n",
    "| Tool         | Purpose                   |\n",
    "|--------------|---------------------------|\n",
    "| Jupyter      | Interactive Development   |\n",
    "| TensorFlow   | Machine Learning Library  |\n",
    "| Tableau      | Data Visualization        |\n"
   ]
  },
  {
   "cell_type": "markdown",
   "id": "f86d650a",
   "metadata": {},
   "source": [
    "# Arithmetic Expression\n",
    "\n",
    "Arithmetic expressions consist of arithmetic terms that are linked by arithmetic operations.\n",
    "Such as: \n",
    "- 9+4=13\n",
    "- 45-20=25"
   ]
  },
  {
   "cell_type": "code",
   "execution_count": 1,
   "id": "59551424",
   "metadata": {},
   "outputs": [
    {
     "name": "stdout",
     "output_type": "stream",
     "text": [
      "Enter the first number: 45\n",
      "Enter the second number: 26\n"
     ]
    },
    {
     "data": {
      "text/plain": [
       "1172.0"
      ]
     },
     "execution_count": 1,
     "metadata": {},
     "output_type": "execute_result"
    }
   ],
   "source": [
    "#Multipication and Addition\n",
    "num1 = float(input(\"Enter the first number: \"))\n",
    "num2 = float(input(\"Enter the second number: \"))\n",
    "\n",
    "a = num1 * num2 + 2\n",
    "a\n"
   ]
  },
  {
   "cell_type": "code",
   "execution_count": 2,
   "id": "0882e3da",
   "metadata": {},
   "outputs": [
    {
     "name": "stdout",
     "output_type": "stream",
     "text": [
      "Enter the number of minutes: 80\n"
     ]
    },
    {
     "data": {
      "text/plain": [
       "1.3333333333333333"
      ]
     },
     "execution_count": 2,
     "metadata": {},
     "output_type": "execute_result"
    }
   ],
   "source": [
    "# Minutes to Hours\n",
    "minutes = float(input(\"Enter the number of minutes: \"))\n",
    "hours = minutes / 60\n",
    "hours"
   ]
  },
  {
   "cell_type": "markdown",
   "id": "255d1642",
   "metadata": {},
   "source": [
    "# Obectives\n",
    "- Introducing DataScinece\n",
    "- Understandin Arithmatic Expressions\n",
    "- DataScience Tools"
   ]
  },
  {
   "cell_type": "markdown",
   "id": "715463d2",
   "metadata": {},
   "source": [
    "# Author\n",
    "Mehran Kianvand"
   ]
  },
  {
   "cell_type": "code",
   "execution_count": null,
   "id": "f8af8c9d",
   "metadata": {},
   "outputs": [],
   "source": []
  }
 ],
 "metadata": {
  "kernelspec": {
   "display_name": "Python 3 (ipykernel)",
   "language": "python",
   "name": "python3"
  },
  "language_info": {
   "codemirror_mode": {
    "name": "ipython",
    "version": 3
   },
   "file_extension": ".py",
   "mimetype": "text/x-python",
   "name": "python",
   "nbconvert_exporter": "python",
   "pygments_lexer": "ipython3",
   "version": "3.9.5"
  },
  "vp": {
   "vp_config_version": "1.0.0",
   "vp_menu_width": 273,
   "vp_note_display": false,
   "vp_note_width": 0,
   "vp_position": {
    "width": 278
   },
   "vp_section_display": false,
   "vp_signature": "VisualPython"
  }
 },
 "nbformat": 4,
 "nbformat_minor": 5
}
